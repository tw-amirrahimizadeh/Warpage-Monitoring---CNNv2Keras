{
 "cells": [
  {
   "cell_type": "code",
   "execution_count": 1,
   "metadata": {},
   "outputs": [
    {
     "name": "stderr",
     "output_type": "stream",
     "text": [
      "Using TensorFlow backend.\n"
     ]
    }
   ],
   "source": [
    "# Importing libraries \n",
    "import keras\n",
    "from keras.models import Sequential \n",
    "from keras.layers import Dense, Conv2D, Flatten, LeakyReLU, MaxPooling2D\n",
    "import numpy  as np\n",
    "import pandas as pd\n",
    "import cv2\n",
    "from   random import shuffle\n",
    "from   tqdm   import tqdm\n",
    "import os\n",
    "import time"
   ]
  },
  {
   "cell_type": "code",
   "execution_count": 2,
   "metadata": {},
   "outputs": [],
   "source": [
    "# Storing image directories \n",
    "TRAIN_DIR = 'C:\\\\Users\\\\Aditya\\\\Desktop\\\\FRAMES\\\\WarpDetectionSystem\\\\TrainingData'\n",
    "TEST_DIR  = 'C:\\\\Users\\\\Aditya\\\\Desktop\\\\FRAMES\\\\WarpDetectionSystem\\\\TestingData'"
   ]
  },
  {
   "cell_type": "code",
   "execution_count": 3,
   "metadata": {},
   "outputs": [],
   "source": [
    "# Defining image size\n",
    "IMG_X  = 525\n",
    "IMG_Y  = 158"
   ]
  },
  {
   "cell_type": "code",
   "execution_count": 4,
   "metadata": {},
   "outputs": [],
   "source": [
    "# Defining a function to extract labels from image file names\n",
    "\n",
    "def label_image (img):\n",
    "    labels = img.split('.')[0]\n",
    "    if   labels == 'PerfectCorners'  : return [1,0]\n",
    "    elif labels == 'WarpedCorners'  : return [0,1]"
   ]
  },
  {
   "cell_type": "code",
   "execution_count": 5,
   "metadata": {},
   "outputs": [],
   "source": [
    "# Defining a function to prepare training data\n",
    "def create_training_data():\n",
    "    training_data = []\n",
    "    for image in os.listdir(TRAIN_DIR):\n",
    "        label = label_image(image)\n",
    "        path  = os.path.join(TRAIN_DIR,image)\n",
    "        img   = cv2.resize(cv2.imread(path,0),(IMG_X, IMG_Y))\n",
    "        training_data.append([np.array(img),np.array(label)])\n",
    "    shuffle(training_data)\n",
    "    np.save('training_data.npy',training_data)\n",
    "    return training_data"
   ]
  },
  {
   "cell_type": "code",
   "execution_count": 6,
   "metadata": {},
   "outputs": [],
   "source": [
    "# Defining a function to prepare testing data\n",
    "\n",
    "def process_testing_data():\n",
    "    testing_data = []\n",
    "    for image in os.listdir(TEST_DIR):\n",
    "        img_num = image.split('.')[0]\n",
    "        path    = os.path.join(TEST_DIR, image)\n",
    "        img     = cv2.resize(cv2.imread(path,0),(IMG_X, IMG_Y))\n",
    "        testing_data.append([np.array(img),np.array(img_num)])\n",
    "    np.save('testing_data.npy',testing_data)\n",
    "    return testing_data"
   ]
  },
  {
   "cell_type": "code",
   "execution_count": 16,
   "metadata": {},
   "outputs": [],
   "source": [
    "# Creating training and testing dataset\n",
    "\n",
    "# training_data = create_training_data()\n",
    "\n",
    "testing_data  = process_testing_data()\n"
   ]
  },
  {
   "cell_type": "markdown",
   "metadata": {},
   "source": [
    "### Building the convolutional network "
   ]
  },
  {
   "cell_type": "code",
   "execution_count": 8,
   "metadata": {},
   "outputs": [],
   "source": [
    "# Creating the model\n",
    "LR          = 1e-3\n",
    "num_classes = 2\n",
    "MODEL_NAME  = 'TestModel-{}-{}.model'.format(LR,'ConvNet')"
   ]
  },
  {
   "cell_type": "code",
   "execution_count": 9,
   "metadata": {},
   "outputs": [
    {
     "name": "stderr",
     "output_type": "stream",
     "text": [
      "WARNING: Logging before flag parsing goes to stderr.\n",
      "W0801 18:26:35.058332   520 deprecation_wrapper.py:119] From C:\\Users\\Aditya\\Anaconda3\\lib\\site-packages\\keras\\backend\\tensorflow_backend.py:74: The name tf.get_default_graph is deprecated. Please use tf.compat.v1.get_default_graph instead.\n",
      "\n",
      "W0801 18:26:35.089574   520 deprecation_wrapper.py:119] From C:\\Users\\Aditya\\Anaconda3\\lib\\site-packages\\keras\\backend\\tensorflow_backend.py:517: The name tf.placeholder is deprecated. Please use tf.compat.v1.placeholder instead.\n",
      "\n",
      "W0801 18:26:35.105195   520 deprecation_wrapper.py:119] From C:\\Users\\Aditya\\Anaconda3\\lib\\site-packages\\keras\\backend\\tensorflow_backend.py:4138: The name tf.random_uniform is deprecated. Please use tf.random.uniform instead.\n",
      "\n",
      "W0801 18:26:35.136436   520 deprecation_wrapper.py:119] From C:\\Users\\Aditya\\Anaconda3\\lib\\site-packages\\keras\\backend\\tensorflow_backend.py:3976: The name tf.nn.max_pool is deprecated. Please use tf.nn.max_pool2d instead.\n",
      "\n",
      "W0801 18:26:35.325881   520 deprecation_wrapper.py:119] From C:\\Users\\Aditya\\Anaconda3\\lib\\site-packages\\keras\\optimizers.py:790: The name tf.train.Optimizer is deprecated. Please use tf.compat.v1.train.Optimizer instead.\n",
      "\n",
      "W0801 18:26:35.325881   520 deprecation_wrapper.py:119] From C:\\Users\\Aditya\\Anaconda3\\lib\\site-packages\\keras\\backend\\tensorflow_backend.py:3376: The name tf.log is deprecated. Please use tf.math.log instead.\n",
      "\n",
      "W0801 18:26:35.341512   520 deprecation.py:323] From C:\\Users\\Aditya\\Anaconda3\\lib\\site-packages\\tensorflow\\python\\ops\\nn_impl.py:180: add_dispatch_support.<locals>.wrapper (from tensorflow.python.ops.array_ops) is deprecated and will be removed in a future version.\n",
      "Instructions for updating:\n",
      "Use tf.where in 2.0, which has the same broadcast rule as np.where\n"
     ]
    }
   ],
   "source": [
    "# Building the network\n",
    "\n",
    "model = Sequential()\n",
    "\n",
    "model.add(Conv2D(16, kernel_size = (3,3),input_shape = (IMG_X,IMG_Y,1), padding = 'same'))\n",
    "model.add(LeakyReLU(alpha=LR))\n",
    "model.add(MaxPooling2D((2,2),padding='same'))\n",
    "\n",
    "model.add(Conv2D(16, kernel_size = (3,3),input_shape = (IMG_X,IMG_Y,1), padding = 'same'))\n",
    "model.add(LeakyReLU(alpha=LR))\n",
    "model.add(MaxPooling2D((2,2),padding='same'))\n",
    "          \n",
    "model.add(Conv2D(16, kernel_size = (3,3),input_shape = (IMG_X,IMG_Y,1), padding = 'same'))\n",
    "model.add(LeakyReLU(alpha=LR))\n",
    "model.add(MaxPooling2D((2,2),padding='same'))\n",
    "\n",
    "model.add(Conv2D(16, kernel_size = (3,3),input_shape = (IMG_X,IMG_Y,1), padding = 'same'))\n",
    "model.add(LeakyReLU(alpha=LR))\n",
    "model.add(MaxPooling2D((2,2),padding='same'))\n",
    "\n",
    "model.add(Conv2D(16, kernel_size = (3,3),input_shape = (IMG_X,IMG_Y,1), padding = 'same'))\n",
    "model.add(LeakyReLU(alpha=LR))\n",
    "model.add(MaxPooling2D((2,2),padding='same'))\n",
    "\n",
    "model.add(Conv2D(16, kernel_size = (3,3),input_shape = (IMG_X,IMG_Y,1), padding = 'same'))\n",
    "model.add(LeakyReLU(alpha=LR))\n",
    "model.add(MaxPooling2D((2,2),padding='same'))\n",
    "\n",
    "model.add(Conv2D(16, kernel_size = (3,3),input_shape = (IMG_X,IMG_Y,1), padding = 'same'))\n",
    "model.add(LeakyReLU(alpha=LR))\n",
    "model.add(MaxPooling2D((2,2),padding='same'))\n",
    "\n",
    "model.add(Flatten())\n",
    "          \n",
    "model.add(Dense(2,activation='softmax'))\n",
    "model.compile(loss = 'binary_crossentropy',optimizer = keras.optimizers.Adam(), metrics = ['accuracy'])"
   ]
  },
  {
   "cell_type": "code",
   "execution_count": 10,
   "metadata": {},
   "outputs": [],
   "source": [
    "# Splitting training data to training  and validation dataset\n",
    "train          = training_data[:-50]\n",
    "validation_set = training_data[-150:]"
   ]
  },
  {
   "cell_type": "code",
   "execution_count": 11,
   "metadata": {},
   "outputs": [
    {
     "name": "stderr",
     "output_type": "stream",
     "text": [
      "W0801 18:26:35.850323   520 deprecation_wrapper.py:119] From C:\\Users\\Aditya\\Anaconda3\\lib\\site-packages\\keras\\backend\\tensorflow_backend.py:986: The name tf.assign_add is deprecated. Please use tf.compat.v1.assign_add instead.\n",
      "\n"
     ]
    },
    {
     "name": "stdout",
     "output_type": "stream",
     "text": [
      "Train on 270 samples, validate on 150 samples\n",
      "Epoch 1/20\n",
      "270/270 [==============================] - ETA: 15s - loss: 3.6755 - acc: 0.43 - ETA: 10s - loss: 2.9250 - acc: 0.42 - ETA: 7s - loss: 2.3849 - acc: 0.4583 - ETA: 6s - loss: 2.0054 - acc: 0.453 - ETA: 4s - loss: 1.8413 - acc: 0.437 - ETA: 3s - loss: 1.7271 - acc: 0.432 - ETA: 1s - loss: 1.5876 - acc: 0.450 - ETA: 0s - loss: 1.4862 - acc: 0.445 - 13s 47ms/step - loss: 1.4471 - acc: 0.4519 - val_loss: 0.6383 - val_acc: 0.6200\n",
      "Epoch 2/20\n",
      "270/270 [==============================] - ETA: 8s - loss: 0.4492 - acc: 0.750 - ETA: 7s - loss: 0.5694 - acc: 0.687 - ETA: 6s - loss: 0.5328 - acc: 0.760 - ETA: 5s - loss: 0.5256 - acc: 0.765 - ETA: 4s - loss: 0.5374 - acc: 0.756 - ETA: 2s - loss: 0.5192 - acc: 0.765 - ETA: 1s - loss: 0.5013 - acc: 0.772 - ETA: 0s - loss: 0.4868 - acc: 0.781 - 12s 43ms/step - loss: 0.4811 - acc: 0.7815 - val_loss: 0.3705 - val_acc: 0.8733\n",
      "Epoch 3/20\n",
      "270/270 [==============================] - ETA: 10s - loss: 0.4266 - acc: 0.81 - ETA: 9s - loss: 0.3846 - acc: 0.8750 - ETA: 7s - loss: 0.3424 - acc: 0.895 - ETA: 5s - loss: 0.3532 - acc: 0.898 - ETA: 4s - loss: 0.3448 - acc: 0.900 - ETA: 3s - loss: 0.3586 - acc: 0.906 - ETA: 1s - loss: 0.3854 - acc: 0.888 - ETA: 0s - loss: 0.3676 - acc: 0.890 - 12s 45ms/step - loss: 0.3698 - acc: 0.8815 - val_loss: 0.3069 - val_acc: 0.8333\n",
      "Epoch 4/20\n",
      "270/270 [==============================] - ETA: 8s - loss: 0.3718 - acc: 0.843 - ETA: 7s - loss: 0.3116 - acc: 0.843 - ETA: 6s - loss: 0.3131 - acc: 0.854 - ETA: 5s - loss: 0.2973 - acc: 0.875 - ETA: 4s - loss: 0.3797 - acc: 0.856 - ETA: 2s - loss: 0.3770 - acc: 0.859 - ETA: 1s - loss: 0.3606 - acc: 0.866 - ETA: 0s - loss: 0.3463 - acc: 0.871 - 12s 43ms/step - loss: 0.3445 - acc: 0.8704 - val_loss: 0.2313 - val_acc: 0.9067\n",
      "Epoch 5/20\n",
      "270/270 [==============================] - ETA: 8s - loss: 0.3312 - acc: 0.812 - ETA: 7s - loss: 0.3137 - acc: 0.875 - ETA: 6s - loss: 0.3400 - acc: 0.864 - ETA: 5s - loss: 0.3043 - acc: 0.890 - ETA: 4s - loss: 0.2709 - acc: 0.906 - ETA: 2s - loss: 0.2850 - acc: 0.906 - ETA: 1s - loss: 0.2846 - acc: 0.906 - ETA: 0s - loss: 0.2717 - acc: 0.910 - 12s 44ms/step - loss: 0.2713 - acc: 0.9111 - val_loss: 0.2036 - val_acc: 0.9000\n",
      "Epoch 6/20\n",
      "270/270 [==============================] - ETA: 8s - loss: 0.3060 - acc: 0.875 - ETA: 7s - loss: 0.2609 - acc: 0.875 - ETA: 6s - loss: 0.2163 - acc: 0.906 - ETA: 5s - loss: 0.2343 - acc: 0.898 - ETA: 3s - loss: 0.2355 - acc: 0.906 - ETA: 2s - loss: 0.2285 - acc: 0.906 - ETA: 1s - loss: 0.2348 - acc: 0.901 - ETA: 0s - loss: 0.2234 - acc: 0.906 - 12s 43ms/step - loss: 0.2275 - acc: 0.9037 - val_loss: 0.1701 - val_acc: 0.9400\n",
      "Epoch 7/20\n",
      "270/270 [==============================] - ETA: 8s - loss: 0.2395 - acc: 0.937 - ETA: 7s - loss: 0.1889 - acc: 0.937 - ETA: 6s - loss: 0.1460 - acc: 0.958 - ETA: 5s - loss: 0.1630 - acc: 0.937 - ETA: 4s - loss: 0.1509 - acc: 0.950 - ETA: 2s - loss: 0.1579 - acc: 0.947 - ETA: 1s - loss: 0.1523 - acc: 0.950 - ETA: 0s - loss: 0.1712 - acc: 0.941 - 12s 43ms/step - loss: 0.1693 - acc: 0.9444 - val_loss: 0.1372 - val_acc: 0.9600\n",
      "Epoch 8/20\n",
      "270/270 [==============================] - ETA: 8s - loss: 0.1648 - acc: 0.906 - ETA: 7s - loss: 0.1816 - acc: 0.937 - ETA: 6s - loss: 0.1856 - acc: 0.927 - ETA: 5s - loss: 0.1527 - acc: 0.945 - ETA: 4s - loss: 0.1723 - acc: 0.925 - ETA: 2s - loss: 0.1556 - acc: 0.937 - ETA: 1s - loss: 0.1913 - acc: 0.924 - ETA: 0s - loss: 0.1741 - acc: 0.933 - 12s 44ms/step - loss: 0.1717 - acc: 0.9370 - val_loss: 0.1527 - val_acc: 0.9467\n",
      "Epoch 9/20\n",
      "270/270 [==============================] - ETA: 9s - loss: 0.1266 - acc: 0.968 - ETA: 7s - loss: 0.1120 - acc: 0.968 - ETA: 6s - loss: 0.1545 - acc: 0.947 - ETA: 5s - loss: 0.1343 - acc: 0.953 - ETA: 4s - loss: 0.1632 - acc: 0.943 - ETA: 2s - loss: 0.1498 - acc: 0.947 - ETA: 1s - loss: 0.1533 - acc: 0.946 - ETA: 0s - loss: 0.1547 - acc: 0.941 - 12s 44ms/step - loss: 0.1495 - acc: 0.9444 - val_loss: 0.1038 - val_acc: 0.9667\n",
      "Epoch 10/20\n",
      "270/270 [==============================] - ETA: 8s - loss: 0.2173 - acc: 0.906 - ETA: 7s - loss: 0.1579 - acc: 0.953 - ETA: 6s - loss: 0.1348 - acc: 0.958 - ETA: 5s - loss: 0.1425 - acc: 0.953 - ETA: 4s - loss: 0.1456 - acc: 0.943 - ETA: 2s - loss: 0.1352 - acc: 0.947 - ETA: 1s - loss: 0.1356 - acc: 0.946 - ETA: 0s - loss: 0.1321 - acc: 0.949 - 12s 43ms/step - loss: 0.1434 - acc: 0.9481 - val_loss: 0.0930 - val_acc: 0.9733\n",
      "Epoch 11/20\n",
      "270/270 [==============================] - ETA: 8s - loss: 0.1122 - acc: 0.968 - ETA: 7s - loss: 0.0883 - acc: 0.968 - ETA: 6s - loss: 0.0704 - acc: 0.979 - ETA: 5s - loss: 0.0648 - acc: 0.984 - ETA: 4s - loss: 0.0907 - acc: 0.968 - ETA: 2s - loss: 0.0918 - acc: 0.974 - ETA: 1s - loss: 0.0986 - acc: 0.968 - ETA: 0s - loss: 0.1063 - acc: 0.964 - 12s 44ms/step - loss: 0.1043 - acc: 0.9667 - val_loss: 0.1011 - val_acc: 0.9667\n",
      "Epoch 12/20\n",
      "270/270 [==============================] - ETA: 8s - loss: 0.0673 - acc: 0.968 - ETA: 7s - loss: 0.0736 - acc: 0.968 - ETA: 6s - loss: 0.1130 - acc: 0.947 - ETA: 5s - loss: 0.1018 - acc: 0.953 - ETA: 4s - loss: 0.1080 - acc: 0.956 - ETA: 2s - loss: 0.1016 - acc: 0.963 - ETA: 1s - loss: 0.1095 - acc: 0.959 - ETA: 0s - loss: 0.1047 - acc: 0.960 - 12s 44ms/step - loss: 0.1017 - acc: 0.9630 - val_loss: 0.0987 - val_acc: 0.9533\n",
      "Epoch 13/20\n",
      "270/270 [==============================] - ETA: 9s - loss: 0.0150 - acc: 1.000 - ETA: 7s - loss: 0.0812 - acc: 0.984 - ETA: 6s - loss: 0.0739 - acc: 0.989 - ETA: 5s - loss: 0.0776 - acc: 0.976 - ETA: 4s - loss: 0.0700 - acc: 0.981 - ETA: 2s - loss: 0.0897 - acc: 0.968 - ETA: 1s - loss: 0.0827 - acc: 0.973 - ETA: 0s - loss: 0.0794 - acc: 0.972 - 12s 44ms/step - loss: 0.0791 - acc: 0.9704 - val_loss: 0.1430 - val_acc: 0.9533\n",
      "Epoch 14/20\n",
      "270/270 [==============================] - ETA: 8s - loss: 0.0396 - acc: 1.000 - ETA: 7s - loss: 0.0923 - acc: 0.968 - ETA: 6s - loss: 0.0695 - acc: 0.979 - ETA: 5s - loss: 0.1060 - acc: 0.968 - ETA: 4s - loss: 0.1022 - acc: 0.968 - ETA: 2s - loss: 0.1016 - acc: 0.963 - ETA: 1s - loss: 0.1168 - acc: 0.959 - ETA: 0s - loss: 0.1082 - acc: 0.960 - 12s 43ms/step - loss: 0.1036 - acc: 0.9630 - val_loss: 0.1725 - val_acc: 0.9467\n",
      "Epoch 15/20\n",
      "270/270 [==============================] - ETA: 8s - loss: 0.1315 - acc: 0.937 - ETA: 7s - loss: 0.0842 - acc: 0.968 - ETA: 6s - loss: 0.0685 - acc: 0.979 - ETA: 5s - loss: 0.0953 - acc: 0.968 - ETA: 4s - loss: 0.0869 - acc: 0.975 - ETA: 2s - loss: 0.1131 - acc: 0.963 - ETA: 1s - loss: 0.1089 - acc: 0.964 - ETA: 0s - loss: 0.1023 - acc: 0.964 - 12s 45ms/step - loss: 0.0991 - acc: 0.9667 - val_loss: 0.1122 - val_acc: 0.9600\n",
      "Epoch 16/20\n",
      "270/270 [==============================] - ETA: 9s - loss: 0.2526 - acc: 0.906 - ETA: 8s - loss: 0.1350 - acc: 0.953 - ETA: 6s - loss: 0.1006 - acc: 0.968 - ETA: 5s - loss: 0.0795 - acc: 0.976 - ETA: 4s - loss: 0.0786 - acc: 0.975 - ETA: 2s - loss: 0.0738 - acc: 0.979 - ETA: 1s - loss: 0.0675 - acc: 0.982 - ETA: 0s - loss: 0.0681 - acc: 0.980 - 12s 45ms/step - loss: 0.0648 - acc: 0.9815 - val_loss: 0.1180 - val_acc: 0.9600\n",
      "Epoch 17/20\n",
      "270/270 [==============================] - ETA: 9s - loss: 0.1508 - acc: 0.937 - ETA: 7s - loss: 0.0950 - acc: 0.968 - ETA: 6s - loss: 0.0833 - acc: 0.968 - ETA: 5s - loss: 0.0703 - acc: 0.976 - ETA: 4s - loss: 0.0681 - acc: 0.981 - ETA: 2s - loss: 0.0739 - acc: 0.979 - ETA: 1s - loss: 0.0720 - acc: 0.977 - ETA: 0s - loss: 0.0648 - acc: 0.980 - 12s 43ms/step - loss: 0.0634 - acc: 0.9815 - val_loss: 0.1355 - val_acc: 0.9667\n",
      "Epoch 18/20\n",
      "270/270 [==============================] - ETA: 9s - loss: 0.0389 - acc: 0.968 - ETA: 8s - loss: 0.0428 - acc: 0.968 - ETA: 6s - loss: 0.0332 - acc: 0.979 - ETA: 5s - loss: 0.0701 - acc: 0.968 - ETA: 4s - loss: 0.0590 - acc: 0.975 - ETA: 2s - loss: 0.0579 - acc: 0.979 - ETA: 1s - loss: 0.0571 - acc: 0.982 - ETA: 0s - loss: 0.0550 - acc: 0.984 - 12s 44ms/step - loss: 0.0535 - acc: 0.9852 - val_loss: 0.0770 - val_acc: 0.9733\n",
      "Epoch 19/20\n"
     ]
    },
    {
     "name": "stdout",
     "output_type": "stream",
     "text": [
      "270/270 [==============================] - ETA: 8s - loss: 0.0120 - acc: 1.000 - ETA: 7s - loss: 0.0222 - acc: 1.000 - ETA: 6s - loss: 0.0343 - acc: 0.989 - ETA: 5s - loss: 0.0390 - acc: 0.992 - ETA: 4s - loss: 0.0448 - acc: 0.987 - ETA: 2s - loss: 0.0519 - acc: 0.984 - ETA: 1s - loss: 0.0588 - acc: 0.982 - ETA: 0s - loss: 0.0682 - acc: 0.980 - 12s 44ms/step - loss: 0.0657 - acc: 0.9815 - val_loss: 0.1113 - val_acc: 0.9667\n",
      "Epoch 20/20\n",
      "270/270 [==============================] - ETA: 8s - loss: 0.1277 - acc: 0.968 - ETA: 7s - loss: 0.0993 - acc: 0.953 - ETA: 6s - loss: 0.0745 - acc: 0.968 - ETA: 5s - loss: 0.0630 - acc: 0.976 - ETA: 4s - loss: 0.0558 - acc: 0.981 - ETA: 2s - loss: 0.0537 - acc: 0.984 - ETA: 1s - loss: 0.0635 - acc: 0.977 - ETA: 0s - loss: 0.0640 - acc: 0.972 - 12s 44ms/step - loss: 0.0608 - acc: 0.9741 - val_loss: 0.1595 - val_acc: 0.9600\n"
     ]
    },
    {
     "data": {
      "text/plain": [
       "<keras.callbacks.History at 0x1a74cc77898>"
      ]
     },
     "execution_count": 11,
     "metadata": {},
     "output_type": "execute_result"
    }
   ],
   "source": [
    "# Feeding data to the network \n",
    "X = np.array([i[0] for i in train]).reshape(-1,IMG_X,IMG_Y,1)\n",
    "Y = np.array([i[1] for i in train])\n",
    "validation_x = np.array([i[0] for i in validation_set]).reshape(-1,IMG_X,IMG_Y, 1)\n",
    "validation_y = np.array([i[1] for i in validation_set])\n",
    "\n",
    "model.fit(X, Y, validation_data=(validation_x, validation_y), epochs=20)"
   ]
  },
  {
   "cell_type": "code",
   "execution_count": 12,
   "metadata": {},
   "outputs": [],
   "source": [
    "model.save(MODEL_NAME)"
   ]
  },
  {
   "cell_type": "code",
   "execution_count": 17,
   "metadata": {},
   "outputs": [
    {
     "name": "stdout",
     "output_type": "stream",
     "text": [
      "write 0 line\n",
      "done\n"
     ]
    }
   ],
   "source": [
    "from keras.models import load_model\n",
    "\n",
    "loading_model = load_model('C:\\\\Users\\\\Aditya\\\\Desktop\\\\FRAMES\\\\WarpDetectionSystem\\\\TestModel-0.001-ConvNet.model')\n",
    "test_data = testing_data \n",
    "with open(\"CNNv2Prediction.csv\",'w') as f:\n",
    "    f.write('id,label\\n')\n",
    "with open(\"CNNv2Prediction.csv\",'a') as f:\n",
    "    for num, data in enumerate(test_data):\n",
    "        if num%1000 == 0: print('write {} line'.format(num))\n",
    "        img_num = data[1]\n",
    "        img_data = data[0]\n",
    "        orig = img_data\n",
    "        data = img_data.reshape(-1,IMG_X,IMG_Y,1)\n",
    "        model_out = model.predict([data])[0]\n",
    "        f.write('{},{}\\n'.format(img_num, model_out[0]))\n",
    "print('done')"
   ]
  },
  {
   "cell_type": "code",
   "execution_count": null,
   "metadata": {},
   "outputs": [],
   "source": []
  }
 ],
 "metadata": {
  "kernelspec": {
   "display_name": "Python 3",
   "language": "python",
   "name": "python3"
  },
  "language_info": {
   "codemirror_mode": {
    "name": "ipython",
    "version": 3
   },
   "file_extension": ".py",
   "mimetype": "text/x-python",
   "name": "python",
   "nbconvert_exporter": "python",
   "pygments_lexer": "ipython3",
   "version": "3.7.3"
  }
 },
 "nbformat": 4,
 "nbformat_minor": 2
}
